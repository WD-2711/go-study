{
 "cells": [
  {
   "cell_type": "markdown",
   "id": "6a8e1af4",
   "metadata": {},
   "source": [
    "# Go-section-2\n",
    "\n",
    "## 运行go程序的方式：\n",
    "1. go run xx.go\n",
    "2. go install xx.go，之后可以用$GOPATH/bin/xx 运行该程序"
   ]
  },
  {
   "cell_type": "code",
   "execution_count": 8,
   "id": "9cb756c7",
   "metadata": {},
   "outputs": [],
   "source": [
    "package main\n",
    "\n",
    "import \"fmt\"\n",
    "\n",
    "func main() {\n",
    "    fmt.Println(\"Hello World\")\n",
    "}"
   ]
  },
  {
   "cell_type": "markdown",
   "id": "a90fc824",
   "metadata": {},
   "source": [
    "# Go-section-3\n"
   ]
  },
  {
   "cell_type": "code",
   "execution_count": 21,
   "id": "e88ef13b",
   "metadata": {
    "collapsed": true
   },
   "outputs": [
    {
     "name": "stdout",
     "output_type": "stream",
     "text": [
      "my age is 0\n",
      "my age is 29\n",
      "my age is 54\n",
      "my age is 29\n",
      "my age is 30\n",
      "width is 100 height is 50\n",
      "my name is  naveen , age is  29 and height is  0\n",
      "40 50\n"
     ]
    },
    {
     "data": {
      "text/plain": [
       "6 <nil>"
      ]
     },
     "execution_count": 21,
     "metadata": {},
     "output_type": "execute_result"
    }
   ],
   "source": [
    "var age int\n",
    "fmt.Println(\"my age is\", age)\n",
    "age = 29\n",
    "fmt.Println(\"my age is\", age)\n",
    "age = 54\n",
    "fmt.Println(\"my age is\", age)\n",
    "var age int = 29\n",
    "fmt.Println(\"my age is\", age)\n",
    "var age = 30\n",
    "fmt.Println(\"my age is\", age)\n",
    "var width, height int = 100, 50\n",
    "fmt.Println(\"width is\", width, \"height is\", height)\n",
    "var (\n",
    "    name = \"naveen\"\n",
    "    age = 29\n",
    "    height int\n",
    ")\n",
    "fmt.Println(\"my name is \", name, \", age is \", age, \"and height is \", height)\n",
    "a, b := 20, 30\n",
    "a, b := 40, 50\n",
    "fmt.Println(a, b)"
   ]
  },
  {
   "cell_type": "markdown",
   "id": "bc46df7c",
   "metadata": {},
   "source": [
    "# Go-section-4\n",
    "\n",
    "## 基本数据类型：\n",
    "int8,int16,int32,int64,int\n",
    "uint8,uint16,uint32,uint64,uint\n",
    "float32,float64\n",
    "complex64,complex128\n",
    "byte\n",
    "rune\n",
    "string\n",
    "具体见/go-class/dataType.go"
   ]
  },
  {
   "cell_type": "markdown",
   "id": "73145179",
   "metadata": {},
   "source": [
    "# Go-section-5\n",
    "具体见/go-class/constVar.go"
   ]
  },
  {
   "cell_type": "markdown",
   "id": "e0335daf",
   "metadata": {},
   "source": [
    "# Go-section-6\n",
    "具体见/go-class/func.go"
   ]
  },
  {
   "cell_type": "markdown",
   "id": "06ef1bfa",
   "metadata": {},
   "source": [
    "# Go-section-7 包\n",
    "1. 创建geometry文件夹，编写完geometry.go，运行cp -r /root/code/go-code/go-class/sec-7/geometry /usr/local/go/src，接着cd /usr/local/go/src运行 go install geometry，这个时候就会在/usr/local/go/bin文件夹下生成一个geometry的可运行程序\n",
    "2. cd /usr/local/go/bin && ./geometry 即可\n",
    "\n",
    "## 创建自定义的包\n",
    "1. 在geometry文件夹中创建rectangle文件夹并在里面编写rectprops.go文件，按上述操作进行运行\n",
    "\n",
    "## 导出名\n",
    "1. rectprops.go中的函数首字母都是大写的，这代表可以被导出，其他包可以访问到这些函数\n",
    "\n",
    "## Init\n",
    "1. 所有包中都可以包含Init函数，此函数没有任何返回值与参数，其用于初始化任务，也可以在程序开始执行之前验证程序的正确性\n",
    "2. 包的初始化顺序如下：（1）初始化包级别的变量。（2）调用Init函数（一个包中可以有多个Init函数）\n",
    "\n",
    "注：一个包可以被导入多次，但是它只会被初始化一次。\n",
    "\n",
    "\n",
    "## 空白标识符\n",
    "1. 导入了包，但是不在代码中使用它是违法的。\n",
    "2. 可以用空白标识符来避免这种问题：\n",
    "``` go\n",
    "import (_ \"geometry/rectangle\")\n",
    "```\n",
    "\n",
    "具体见/go-class/sec-7"
   ]
  },
  {
   "cell_type": "markdown",
   "id": "bae7096a",
   "metadata": {},
   "source": [
    "# Go-section-8 分支语句\n",
    "\n",
    "一个很坑的点就是：(原因是go看到`}`后面没有字符就自动插入`;`)\n",
    "\n",
    "\n",
    "要这么写\n",
    " \n",
    "``` go\n",
    "if condition {\n",
    "    xxx\n",
    "} else {\n",
    "    xxx\n",
    "}\n",
    "```\n",
    "\n",
    "不能这么写\n",
    "\n",
    "``` go\n",
    "if condition {\n",
    "    xxx\n",
    "} \n",
    "else {\n",
    "    xxx\n",
    "}\n",
    "```\n",
    "\n",
    "具体见/go-class/ifElse.go"
   ]
  },
  {
   "cell_type": "markdown",
   "id": "be1e1103",
   "metadata": {},
   "source": [
    "# Go-section-9 循环\n",
    "\n",
    "具体见/go-class/cycle.go"
   ]
  },
  {
   "cell_type": "markdown",
   "id": "8ae31207",
   "metadata": {},
   "source": [
    "# Go-section-10 switch\n",
    "\n",
    "1. case 不允许出现重复项\n",
    "2. fallthrough意思是执行完一个case之后，不会跳出来，反而进行下一个case的判断\n",
    "\n",
    "具体见/go-class/switch.go"
   ]
  },
  {
   "cell_type": "markdown",
   "id": "41b23a0c",
   "metadata": {},
   "source": [
    "# Go-section-11 array&切片\n",
    "\n",
    "具体见/go-class/arr-slice.go"
   ]
  },
  {
   "cell_type": "markdown",
   "id": "87f9e594",
   "metadata": {},
   "source": [
    "# Go-section-12 Maps\n",
    "\n",
    "1. map是将value与key关联的数据类型\n",
    "\n",
    "具体见/go-class/maps.go\n"
   ]
  },
  {
   "cell_type": "markdown",
   "id": "344a6955",
   "metadata": {},
   "source": [
    "# Go-section-13 字符串\n",
    "\n",
    "\n",
    "具体见/go-class/str.go"
   ]
  },
  {
   "cell_type": "markdown",
   "id": "3b949ff8",
   "metadata": {},
   "source": [
    "# Go-section-14 可变参数函数\n",
    "\n",
    "1. 可变参数函数就是参数个数可以改变的函数，其最后一个参数为`...T`,例如\n",
    "\n",
    "``` go\n",
    "func append(slice []Type, elems ...Type) []Type\n",
    "```\n",
    "\n",
    "具体见/go-class/argChangeFuc.go"
   ]
  },
  {
   "cell_type": "markdown",
   "id": "753be887",
   "metadata": {},
   "source": [
    "# Go-section-15 指针\n",
    "\n",
    "1.指针变量的类型为`*T`，该指针指向了一个`T`类型的变量 \n",
    "\n",
    "具体见/go-class/pointer.go"
   ]
  },
  {
   "cell_type": "markdown",
   "id": "ab80d1c2",
   "metadata": {},
   "source": [
    "# Go-section-16 结构体\n",
    "\n",
    "具体见/go-class/structure.go与/go-class/sec-16\n",
    "\n",
    "sec-16主要是讲导出结构体\n",
    "\n",
    "```\n",
    "cp -r /root/code/go-code/go-class/sec-16/structs /usr/local/go/src\n",
    "cd /usr/local/go/src\n",
    "go install structs\n",
    "cd /usr/local/go/bin && ./struct\n",
    "```\n",
    "\n",
    "具体见/go-class/structure.go"
   ]
  },
  {
   "cell_type": "markdown",
   "id": "9637c692",
   "metadata": {},
   "source": [
    "# Go-section-17 方法\n",
    "\n",
    "1. 方法其实就是函数，只不过在func与方法名之间加了一个特殊的接收器类型，例如：\n",
    "\n",
    "```go\n",
    "func (t Type) methodName (params list){\n",
    "}\n",
    "```\n",
    "\n",
    "2. 为啥需要方法呢？（1）Go不支持类，且不是纯粹的面向对象的编程语言，基于类型的方法是一种实现和类相似行为的途径。（2）相同名字的方法可以定义在不同的类型上，而相同名字的函数是不被允许的。\n",
    "\n",
    "3. 什么时候用指针接收器，什么时候用值接收器？当要求方法内部的接收器的所做的改变对调用者可见时，要用指针接收器。\n",
    "\n",
    "4. 方法中的值接收器 and 函数中的值参数。（1）当函数中是值参数，它只能接受值参数；当方法中有一个值接收器，那么它可以接受值接收器和指针接收器。（2）当函数中是指针参数，那么它只能接受指针参数；当方法中一个指针接收器，那么它可以接受值接收器和指针接收器。\n",
    "\n",
    "具体见/go-class/method.go"
   ]
  },
  {
   "cell_type": "markdown",
   "id": "6fa7e416",
   "metadata": {},
   "source": [
    "# Go-section-18 接口（重点）\n",
    "\n",
    "1. 接口定义一个对象的行为，接口只定义了对象应该做什么，但是要怎么去做还是要对象本身去决定。\n",
    "\n",
    "2. Go中，接口就是方法的集合。当一个类型定义了接口中的所有方法，我们就说它实现了该接口。\n",
    "\n",
    "具体见/go-class/interface.go"
   ]
  },
  {
   "cell_type": "markdown",
   "id": "c3990310",
   "metadata": {},
   "source": [
    "# Go-section-19 接口2（重点）\n",
    "\n",
    "具体见/go-class/interface2.go"
   ]
  },
  {
   "cell_type": "markdown",
   "id": "3012a995",
   "metadata": {},
   "source": [
    "# Go-section-20 并发\n",
    "\n",
    "1. 并发与并行的区别（你懂的）"
   ]
  },
  {
   "cell_type": "markdown",
   "id": "6e4248e2",
   "metadata": {},
   "source": [
    "# Go-section-21 协程\n",
    "\n",
    "1. 啥是协程？协程是与其他函数或方法一起并发运行的函数或方法，可以看作是轻量级的线程。\n",
    "\n",
    "2. 协程相对于线程的优势？（1）成本极低。堆栈大小只有几kb。（2）协程复用数量更少的OS线程。如果线程中的某一个协程发生了阻塞，那么系统会创建一个新的OS线程，并把其余的Go协程都移动到这个新的OS线程。（3）协程使用信道来通信。\n",
    "\n",
    "具体见/go-class/coroutine.go"
   ]
  },
  {
   "cell_type": "markdown",
   "id": "b8841c89",
   "metadata": {},
   "source": [
    "# Go-section-22 信道\n",
    "\n",
    "具体见/go-class/channel.go"
   ]
  },
  {
   "cell_type": "markdown",
   "id": "ce06a637",
   "metadata": {},
   "source": [
    "# Go-section-23 缓冲信道与工作池（重点）\n",
    "\n",
    "1. 啥是缓冲信道？就是有容量的信道。\n",
    "\n",
    "2. 缓冲信道的长度指的是当前存的值的数量，缓冲信道的容量就是最多能放多少值。\n",
    "\n",
    "3. WaitGroup用于等待一批协程执行结束，直到这些协程全执行完毕后，程序才会继续往下运行。\n",
    "\n",
    "4. 工作池就是一组等待任务分配的线程，一旦完成了所分配的任务，这些线程可以继续等待任务的分配。pool.go中写了一个工作池，其功能如下：（1）创建了一个Go协程池，监听一个等待作业分配的输入型缓冲信道。（2）将作业添加到输入型缓冲信道中。（3）作业完成后，将结果写入到一个输出型缓冲信道。（4）从输出型缓冲信道中读取并打印结果。\n",
    "\n",
    "具体见/go-class/pool.go"
   ]
  },
  {
   "cell_type": "markdown",
   "id": "6ea86ee3",
   "metadata": {},
   "source": [
    "# Go-section-24 select\n",
    "\n",
    "1. select会在多个发送/接收信道操作中进行选择，select会一直阻塞，直到发送/接收操作准备就绪。如果有多个信道准备完毕，那么select会随机选取其中之一执行。\n",
    "\n",
    "2. select的应用：想要把输出尽快的返回给用户，输出存储在世界各地的服务器上。\n",
    "\n",
    "具体见/go-class/select.go"
   ]
  },
  {
   "cell_type": "markdown",
   "id": "b21ad36e",
   "metadata": {},
   "source": [
    "# Go-section-25 mutex\n",
    "\n",
    "1. mutex就是互斥量，相应的就有临界区的概念，你也懂得哦\n",
    "\n",
    "```go\n",
    "mutex.Lock()\n",
    "x = x + 1\n",
    "mutex.Unlock()\n",
    "```\n",
    "\n",
    "Lock与Unlock之间的代码只能由一个Go协程执行，所以可以避免竞态条件。\n",
    "\n",
    "具体见/go-class/mutex.go"
   ]
  },
  {
   "cell_type": "markdown",
   "id": "7d145874",
   "metadata": {},
   "source": [
    "# Go-section-26 结构体取代类\n",
    "\n",
    "1. Go虽然没有类，但是也可以面向对象编程，就是用接口和结构体来实现类的功能。\n",
    "\n",
    "具体见/go-class/sec-26"
   ]
  },
  {
   "cell_type": "markdown",
   "id": "f7774e5e",
   "metadata": {},
   "source": [
    "# Go-section-27 组合取代继承\n",
    "\n",
    "意思就是多个结构体嵌套，然后用切片可以组合在一起。\n",
    "\n",
    "具体见/go-class/nest.go"
   ]
  },
  {
   "cell_type": "markdown",
   "id": "ce5e4c67",
   "metadata": {},
   "source": [
    "# Go-section-28 defer\n",
    "\n",
    "1. defer的定义：含有defer的函数，在函数要返回之前，调用另一个函数。\n",
    "\n",
    "2. defer的应用：当函数在当前代码流无关的环境下调用时，可以使用defer。\n",
    "\n",
    "具体见/go-class/defer.go"
   ]
  },
  {
   "cell_type": "markdown",
   "id": "b6d3f8d7",
   "metadata": {},
   "source": [
    "# Go-section-29 多态\n",
    "\n",
    "1. 同一个代码可以在多种不同的类型上运行，例如：\n",
    "\n",
    "```go\n",
    "func printValue(val interface{}) {\n",
    "    fmt.Println(val)\n",
    "}\n",
    "\n",
    "```\n",
    "\n",
    "具体见/go-class/defer.go"
   ]
  },
  {
   "cell_type": "markdown",
   "id": "7bc9f1e6",
   "metadata": {},
   "source": [
    "# Go-section-30 错误\n",
    "\n",
    "1. error是一个接口，定义如下：\n",
    "\n",
    "```go\n",
    "type error interface {\n",
    "    Error() string\n",
    "\n",
    "}\n",
    "```\n",
    "\n",
    "具体见/go-class/errProcess.go"
   ]
  },
  {
   "cell_type": "markdown",
   "id": "e15cc25a",
   "metadata": {},
   "source": [
    "# Go-section-31 自定义错误\n",
    "\n",
    "1. 使用New函数创建自定义错误\n",
    "\n",
    "\n",
    "具体见/go-class/errUserDefine.go"
   ]
  },
  {
   "cell_type": "markdown",
   "id": "187506d8",
   "metadata": {},
   "source": [
    "# Go-section-32 panic与recover\n",
    "\n",
    "1. 上一节说的error是用来处理异常情况的，一般来说error就够用了。但是有些情况，当程序发生异常时无法继续运行，这种情况下我们会使用panic来终止程序，当函数发生panic的时候，在执行完所有的延迟函数后，程序会中止运行。\n",
    "\n",
    "2. 当程序出现panic的时候，使用recover可以重新获得对该程序的控制权\n",
    "\n",
    "3. panic&recover与try-catch-finally类似。\n",
    "\n",
    "4. panic的使用场景：（1）发生了不能恢复的错误，例如web服务器无法绑定所要求的端口，因为如果不能绑定端口，那么啥也做不了。（2）发生了编程上的错误，例如有一个接收指针参数的方法，而其他人使用nil作为参数调用了它，此时可以使用panic，因为用nil参数调用了一个只能接收合法指针的方法。"
   ]
  }
 ],
 "metadata": {
  "kernelspec": {
   "display_name": "Go",
   "language": "go",
   "name": "gophernotes"
  },
  "language_info": {
   "codemirror_mode": "",
   "file_extension": ".go",
   "mimetype": "",
   "name": "go",
   "nbconvert_exporter": "",
   "pygments_lexer": "",
   "version": "go1.19.4"
  }
 },
 "nbformat": 4,
 "nbformat_minor": 5
}
